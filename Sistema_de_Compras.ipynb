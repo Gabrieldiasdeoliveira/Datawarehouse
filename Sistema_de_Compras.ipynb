{
  "nbformat": 4,
  "nbformat_minor": 0,
  "metadata": {
    "colab": {
      "provenance": [],
      "authorship_tag": "ABX9TyMdbayr6F+XE9hEyso/nITU",
      "include_colab_link": true
    },
    "kernelspec": {
      "name": "python3",
      "display_name": "Python 3"
    },
    "language_info": {
      "name": "python"
    }
  },
  "cells": [
    {
      "cell_type": "markdown",
      "metadata": {
        "id": "view-in-github",
        "colab_type": "text"
      },
      "source": [
        "<a href=\"https://colab.research.google.com/github/Gabrieldiasdeoliveira/Datawarehouse/blob/master/Sistema_de_Compras.ipynb\" target=\"_parent\"><img src=\"https://colab.research.google.com/assets/colab-badge.svg\" alt=\"Open In Colab\"/></a>"
      ]
    },
    {
      "cell_type": "code",
      "source": [
        "from datetime import datetime\n",
        "\n",
        "# Definição de uma classe para os produtos\n",
        "class Produto:\n",
        "    def __init__(self, nome, preco):\n",
        "        self.nome = nome\n",
        "        self.preco = preco\n",
        "\n",
        "# Definição de uma classe para as compras\n",
        "class Compra:\n",
        "    def __init__(self, cliente):\n",
        "        self.cliente = cliente\n",
        "        self.produtos = []\n",
        "        self.data = datetime.now()\n",
        "\n",
        "    def adicionar_produto(self, produto, quantidade):\n",
        "        self.produtos.append((produto, quantidade))\n",
        "\n",
        "    def calcular_valor_total(self):\n",
        "        return sum(produto.preco * quantidade for produto, quantidade in self.produtos)\n",
        "\n",
        "# Criação de uma lista de produtos\n",
        "produtos = [\n",
        "    Produto('Salgado', 5.0),\n",
        "    Produto('Pizza', 5.50),\n",
        "    Produto('chocolate', 3.00)\n",
        "]\n",
        "\n",
        "# Criação de uma lista de compras\n",
        "compras = []\n",
        "\n",
        "# Função para cadastrar uma nova compra\n",
        "def cadastrar_compra():\n",
        "    # Pede o nome e telefone do cliente\n",
        "    nome_cliente = input('Digite o nome do cliente: ')\n",
        "    telefone_cliente = input('Digite o telefone do cliente: ')\n",
        "\n",
        "    # Cria a compra com o nome do cliente\n",
        "    compra = Compra(nome_cliente)\n",
        "\n",
        "    # Adiciona produtos e quantidades na compra\n",
        "    while True:\n",
        "        # Mostra os produtos disponíveis\n",
        "        print('Produtos disponíveis:')\n",
        "        for i, produto in enumerate(produtos):\n",
        "            print(f'{i+1} - {produto.nome} (R${produto.preco:.2f})')\n",
        "\n",
        "        # Seleciona o produto ou finaliza a compra\n",
        "        opcao = input('Digite o número do produto desejado ou \"f\" para finalizar a compra: ')\n",
        "        if opcao == 'f':\n",
        "            break\n",
        "\n",
        "        # Seleciona a quantidade\n",
        "        quantidade = int(input('Digite a quantidade: '))\n",
        "\n",
        "        # Adiciona o produto e a quantidade na compra\n",
        "        produto = produtos[int(opcao)-1]\n",
        "        compra.adicionar_produto(produto, quantidade)\n",
        "\n",
        "    # Adiciona a compra na lista de compras\n",
        "    compras.append(compra)\n",
        "\n",
        "    # Mostra a mensagem de sucesso\n",
        "    print('Compra cadastrada com sucesso!')\n",
        "\n",
        "# Função para consultar as compras\n",
        "def consultar_compras():\n",
        "    # Pede o nome do cliente\n",
        "    nome_cliente = input('Digite o nome do cliente: ')\n",
        "\n",
        "    # Filtra as compras do cliente e calcula o valor total\n",
        "    compras_cliente = [compra for compra in compras if compra.cliente == nome_cliente]\n",
        "    valor_total = sum([compra.calcular_valor_total() for compra in compras_cliente])\n",
        "\n",
        "    # Mostra a tabela de compras\n",
        "    print(f'Total de compras de {nome_cliente}: R${valor_total:.2f}')\n",
        "    print('Data\\t\\t\\tProduto\\t\\tPreço\\tQuantidade\\tTotal')\n",
        "    for compra in compras_cliente:\n",
        "        for produto, quantidade in compra.produtos:\n",
        "            total = produto.preco * quantidade\n",
        "            print(f'{compra.data.strftime(\"%d/%m/%Y %H:%M:%S\")}\\t{produto.nome}\\tR${produto.preco:.2f}\\t{quantidade}\\tR${total:.2f}')\n",
        "\n",
        "   # Menu de opções\n",
        "while True:\n",
        "    print('1 - Cadastrar compra')\n",
        "    print('2 - Consultar compras')\n",
        "    print('0 - Sair')\n",
        "    opcao = input('Digite a opção desejada: ')\n",
        "\n",
        "    if opcao == '1':\n",
        "        cadastrar_compra()\n",
        "    elif opcao == '2':\n",
        "        consultar_compras()\n",
        "    elif opcao == '0':\n",
        "        break\n",
        "    else:\n",
        "        print('Opção inválida! Tente novamente.')\n",
        "\n",
        "    "
      ],
      "metadata": {
        "colab": {
          "base_uri": "https://localhost:8080/"
        },
        "id": "qOghKwLq2Wnn",
        "outputId": "2782c3fd-28af-40a8-f5a9-7e980146fe1c"
      },
      "execution_count": null,
      "outputs": [
        {
          "output_type": "stream",
          "name": "stdout",
          "text": [
            "1 - Cadastrar compra\n",
            "2 - Consultar compras\n",
            "0 - Sair\n"
          ]
        }
      ]
    }
  ]
}